{
 "cells": [
  {
   "cell_type": "code",
   "execution_count": 1,
   "id": "c1af4965-1ce9-4997-bf74-66883b11d9bb",
   "metadata": {},
   "outputs": [],
   "source": [
    "import numpy as np\n",
    "import pandas as pd\n",
    "from copy import deepcopy\n",
    "from collections import Counter\n",
    "from datetime import datetime\n",
    "import json"
   ]
  },
  {
   "cell_type": "code",
   "execution_count": 4,
   "id": "10f744bf-1a85-46a7-8b81-4ee420751c27",
   "metadata": {},
   "outputs": [],
   "source": [
    "class basic_preprocessing:\n",
    "    \n",
    "    \n",
    "    def __init__(self, game_result, unit_result, cluster_on = False):\n",
    "\n",
    "        self.game_result = game_result\n",
    "        self.unit_result = unit_result\n",
    "        self.augment_result = pd.read_csv('augment_list.csv', encoding='cp949')\n",
    "        self.champion_result = pd.read_csv('champion_list.csv', encoding='cp949')\n",
    "        self.item_result = pd.read_csv('item_list.csv', encoding='cp949')\n",
    "        \n",
    "        if not cluster_on:\n",
    "            self.after_join = pd.merge(self.unit_result, self.game_result[['Datetime', 'Game_id', 'Player_id', 'Placement', 'augment1', 'augment2', 'augment3']], on=['Game_id', 'Player_id', 'Datetime'])\n",
    "            self.after_join = self.after_join[['Datetime', 'Game_id', 'Player_id', 'Placement', 'augment1', 'augment2', 'augment3', 'champ_name', 'rarity', 'tier', 'item1', 'item2', 'item3']]\n",
    "        else:\n",
    "            self.after_join = pd.merge(self.unit_result, self.game_result[['Datetime', 'Game_id', 'Player_id', 'Placement', 'augment1', 'augment2', 'augment3', 'Deck']], on=['Game_id', 'Player_id', 'Datetime'])\n",
    "            self.after_join = self.after_join[['Datetime', 'Game_id', 'Player_id', 'Placement','Deck', 'augment1', 'augment2', 'augment3', 'champ_name', 'rarity', 'tier', 'item1', 'item2', 'item3']]\n",
    "\n",
    "        \n",
    "        \n",
    "\n",
    "    \n",
    "    def change_gloves_item(self):\n",
    "    \n",
    "        check = np.logical_or(self.after_join.item1=='도적의 장갑', self.after_join.item1=='장난꾸러기의 장갑')\n",
    "\n",
    "        self.after_join.loc[check, 'item2']='None'\n",
    "\n",
    "        self.after_join.loc[check, 'item3'] = 'None'\n",
    "\n",
    "        return self.after_join"
   ]
  },
  {
   "cell_type": "code",
   "execution_count": 5,
   "id": "e78236f3-2874-43f7-88d2-bc30bfaa9cdb",
   "metadata": {},
   "outputs": [
    {
     "ename": "TypeError",
     "evalue": "basic_preprocessing.__init__() missing 2 required positional arguments: 'game_result' and 'unit_result'",
     "output_type": "error",
     "traceback": [
      "\u001b[0;31m---------------------------------------------------------------------------\u001b[0m",
      "\u001b[0;31mTypeError\u001b[0m                                 Traceback (most recent call last)",
      "Cell \u001b[0;32mIn[5], line 1\u001b[0m\n\u001b[0;32m----> 1\u001b[0m \u001b[43mbasic_preprocessing\u001b[49m\u001b[43m(\u001b[49m\u001b[43m)\u001b[49m\n",
      "\u001b[0;31mTypeError\u001b[0m: basic_preprocessing.__init__() missing 2 required positional arguments: 'game_result' and 'unit_result'"
     ]
    }
   ],
   "source": []
  },
  {
   "cell_type": "code",
   "execution_count": null,
   "id": "17302ab3-0a20-428b-b591-abeccc19ce67",
   "metadata": {},
   "outputs": [],
   "source": []
  }
 ],
 "metadata": {
  "kernelspec": {
   "display_name": "Python 3 (ipykernel)",
   "language": "python",
   "name": "python3"
  },
  "language_info": {
   "codemirror_mode": {
    "name": "ipython",
    "version": 3
   },
   "file_extension": ".py",
   "mimetype": "text/x-python",
   "name": "python",
   "nbconvert_exporter": "python",
   "pygments_lexer": "ipython3",
   "version": "3.12.2"
  }
 },
 "nbformat": 4,
 "nbformat_minor": 5
}
